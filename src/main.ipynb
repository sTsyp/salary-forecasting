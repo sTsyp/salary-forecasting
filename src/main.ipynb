{
 "cells": [
  {
   "cell_type": "markdown",
   "source": [
    "Импорт библиотек и функций"
   ],
   "metadata": {
    "collapsed": false
   }
  },
  {
   "cell_type": "markdown",
   "source": [
    "Импортируем нужные библиотеки для кодирования данных и написания моделей"
   ],
   "metadata": {
    "collapsed": false
   }
  },
  {
   "cell_type": "code",
   "execution_count": 161,
   "metadata": {
    "collapsed": true
   },
   "outputs": [],
   "source": [
    "import numpy as np\n",
    "import pandas as pd\n",
    "\n",
    "from sklearn.preprocessing import OneHotEncoder, StandardScaler\n",
    "from sklearn.compose import ColumnTransformer\n",
    "from sklearn.pipeline import Pipeline\n",
    "from sklearn.model_selection import KFold\n",
    "\n",
    "\n",
    "from sklearn.linear_model import Ridge\n",
    "from sklearn.tree import DecisionTreeRegressor\n",
    "from sklearn.ensemble import RandomForestRegressor\n",
    "\n",
    "\n",
    "import warnings\n",
    "warnings.filterwarnings(action='ignore')"
   ]
  },
  {
   "cell_type": "markdown",
   "source": [
    "Чтение данных"
   ],
   "metadata": {
    "collapsed": false
   }
  },
  {
   "cell_type": "code",
   "execution_count": 162,
   "outputs": [],
   "source": [
    "df = pd.read_csv('salaries_final.csv')"
   ],
   "metadata": {
    "collapsed": false,
    "pycharm": {
     "name": "#%%\n"
    }
   }
  },
  {
   "cell_type": "code",
   "execution_count": 163,
   "outputs": [
    {
     "data": {
      "text/plain": "       Year                   Name    Primary Job Title  Base Pay  \\\n0      2010       Abaied, Jamie L.  Assistant Professor   64000.0   \n1      2011       Abaied, Jamie L.  Assistant Professor   64000.0   \n2      2012       Abaied, Jamie L.  Assistant Professor   65229.0   \n3      2013       Abaied, Jamie L.  Assistant Professor   66969.0   \n4      2014       Abaied, Jamie L.  Assistant Professor   68658.0   \n...     ...                    ...                  ...       ...   \n14465  2016  van der Vliet, Albert            Professor  163635.0   \n14466  2017  van der Vliet, Albert            Professor  175294.0   \n14467  2018  van der Vliet, Albert            Professor  191000.0   \n14468  2019  van der Vliet, Albert            Professor  196000.0   \n14469  2020  van der Vliet, Albert            Professor  186200.0   \n\n                                        Department College  \n0              Department of Psychological Science     CAS  \n1              Department of Psychological Science     CAS  \n2              Department of Psychological Science     CAS  \n3              Department of Psychological Science     CAS  \n4              Department of Psychological Science     CAS  \n...                                            ...     ...  \n14465  Department of Pathology&Laboratory Medicine     COM  \n14466  Department of Pathology&Laboratory Medicine     COM  \n14467  Department of Pathology&Laboratory Medicine     COM  \n14468  Department of Pathology&Laboratory Medicine     COM  \n14469  Department of Pathology&Laboratory Medicine     COM  \n\n[14470 rows x 6 columns]",
      "text/html": "<div>\n<style scoped>\n    .dataframe tbody tr th:only-of-type {\n        vertical-align: middle;\n    }\n\n    .dataframe tbody tr th {\n        vertical-align: top;\n    }\n\n    .dataframe thead th {\n        text-align: right;\n    }\n</style>\n<table border=\"1\" class=\"dataframe\">\n  <thead>\n    <tr style=\"text-align: right;\">\n      <th></th>\n      <th>Year</th>\n      <th>Name</th>\n      <th>Primary Job Title</th>\n      <th>Base Pay</th>\n      <th>Department</th>\n      <th>College</th>\n    </tr>\n  </thead>\n  <tbody>\n    <tr>\n      <th>0</th>\n      <td>2010</td>\n      <td>Abaied, Jamie L.</td>\n      <td>Assistant Professor</td>\n      <td>64000.0</td>\n      <td>Department of Psychological Science</td>\n      <td>CAS</td>\n    </tr>\n    <tr>\n      <th>1</th>\n      <td>2011</td>\n      <td>Abaied, Jamie L.</td>\n      <td>Assistant Professor</td>\n      <td>64000.0</td>\n      <td>Department of Psychological Science</td>\n      <td>CAS</td>\n    </tr>\n    <tr>\n      <th>2</th>\n      <td>2012</td>\n      <td>Abaied, Jamie L.</td>\n      <td>Assistant Professor</td>\n      <td>65229.0</td>\n      <td>Department of Psychological Science</td>\n      <td>CAS</td>\n    </tr>\n    <tr>\n      <th>3</th>\n      <td>2013</td>\n      <td>Abaied, Jamie L.</td>\n      <td>Assistant Professor</td>\n      <td>66969.0</td>\n      <td>Department of Psychological Science</td>\n      <td>CAS</td>\n    </tr>\n    <tr>\n      <th>4</th>\n      <td>2014</td>\n      <td>Abaied, Jamie L.</td>\n      <td>Assistant Professor</td>\n      <td>68658.0</td>\n      <td>Department of Psychological Science</td>\n      <td>CAS</td>\n    </tr>\n    <tr>\n      <th>...</th>\n      <td>...</td>\n      <td>...</td>\n      <td>...</td>\n      <td>...</td>\n      <td>...</td>\n      <td>...</td>\n    </tr>\n    <tr>\n      <th>14465</th>\n      <td>2016</td>\n      <td>van der Vliet, Albert</td>\n      <td>Professor</td>\n      <td>163635.0</td>\n      <td>Department of Pathology&amp;Laboratory Medicine</td>\n      <td>COM</td>\n    </tr>\n    <tr>\n      <th>14466</th>\n      <td>2017</td>\n      <td>van der Vliet, Albert</td>\n      <td>Professor</td>\n      <td>175294.0</td>\n      <td>Department of Pathology&amp;Laboratory Medicine</td>\n      <td>COM</td>\n    </tr>\n    <tr>\n      <th>14467</th>\n      <td>2018</td>\n      <td>van der Vliet, Albert</td>\n      <td>Professor</td>\n      <td>191000.0</td>\n      <td>Department of Pathology&amp;Laboratory Medicine</td>\n      <td>COM</td>\n    </tr>\n    <tr>\n      <th>14468</th>\n      <td>2019</td>\n      <td>van der Vliet, Albert</td>\n      <td>Professor</td>\n      <td>196000.0</td>\n      <td>Department of Pathology&amp;Laboratory Medicine</td>\n      <td>COM</td>\n    </tr>\n    <tr>\n      <th>14469</th>\n      <td>2020</td>\n      <td>van der Vliet, Albert</td>\n      <td>Professor</td>\n      <td>186200.0</td>\n      <td>Department of Pathology&amp;Laboratory Medicine</td>\n      <td>COM</td>\n    </tr>\n  </tbody>\n</table>\n<p>14470 rows × 6 columns</p>\n</div>"
     },
     "execution_count": 163,
     "metadata": {},
     "output_type": "execute_result"
    }
   ],
   "source": [
    "df"
   ],
   "metadata": {
    "collapsed": false,
    "pycharm": {
     "name": "#%%\n"
    }
   }
  },
  {
   "cell_type": "code",
   "execution_count": 164,
   "outputs": [
    {
     "name": "stdout",
     "output_type": "stream",
     "text": [
      "<class 'pandas.core.frame.DataFrame'>\n",
      "RangeIndex: 14470 entries, 0 to 14469\n",
      "Data columns (total 6 columns):\n",
      " #   Column             Non-Null Count  Dtype  \n",
      "---  ------             --------------  -----  \n",
      " 0   Year               14470 non-null  int64  \n",
      " 1   Name               14470 non-null  object \n",
      " 2   Primary Job Title  14470 non-null  object \n",
      " 3   Base Pay           14470 non-null  float64\n",
      " 4   Department         14470 non-null  object \n",
      " 5   College            14470 non-null  object \n",
      "dtypes: float64(1), int64(1), object(4)\n",
      "memory usage: 678.4+ KB\n"
     ]
    }
   ],
   "source": [
    "df.info()"
   ],
   "metadata": {
    "collapsed": false,
    "pycharm": {
     "name": "#%%\n"
    }
   }
  },
  {
   "cell_type": "markdown",
   "source": [
    "Обработка данных"
   ],
   "metadata": {
    "collapsed": false
   }
  },
  {
   "cell_type": "code",
   "execution_count": 165,
   "outputs": [],
   "source": [
    "df = df.copy()\n",
    " # Drop Name column\n",
    "df = df.drop('Name', axis=1)\n",
    "# Shuffle the data\n",
    "df = df.sample(frac=1.0).reset_index(drop=True)\n",
    "df = df.rename(columns = {'Base Pay': 'Salary'})\n",
    "x = df.drop('Salary', axis=1)\n",
    "# Split df into X and y\n",
    "y = df['Salary']"
   ],
   "metadata": {
    "collapsed": false,
    "pycharm": {
     "name": "#%%\n"
    }
   }
  },
  {
   "cell_type": "code",
   "execution_count": 166,
   "outputs": [
    {
     "data": {
      "text/plain": "       Year       Primary Job Title  \\\n0      2013               Professor   \n1      2018    Lecturer (Part-Time)   \n2      2012     Assistant Professor   \n3      2018     Assistant Professor   \n4      2020  Clinical Practice Phys   \n...     ...                     ...   \n14465  2019                Lecturer   \n14466  2018   Police Officer Senior   \n14467  2020               Professor   \n14468  2015     Assistant Professor   \n14469  2018               Professor   \n\n                                        Department   College  \n0                  Department of Political Science       CAS  \n1                      Grossman School of Business  Business  \n2                      Department of Med-Pulmonary       COM  \n3                    Department of Family Medicine       COM  \n4      Department of Orthopaedics & Rehabilitation       COM  \n...                                            ...       ...  \n14465                       Department of Classics       CAS  \n14466                   Department of Surg-Urology       COM  \n14467                        Department of English       CAS  \n14468           Department of Med-Gen Internal Med       COM  \n14469                        Department of History       CAS  \n\n[14470 rows x 4 columns]",
      "text/html": "<div>\n<style scoped>\n    .dataframe tbody tr th:only-of-type {\n        vertical-align: middle;\n    }\n\n    .dataframe tbody tr th {\n        vertical-align: top;\n    }\n\n    .dataframe thead th {\n        text-align: right;\n    }\n</style>\n<table border=\"1\" class=\"dataframe\">\n  <thead>\n    <tr style=\"text-align: right;\">\n      <th></th>\n      <th>Year</th>\n      <th>Primary Job Title</th>\n      <th>Department</th>\n      <th>College</th>\n    </tr>\n  </thead>\n  <tbody>\n    <tr>\n      <th>0</th>\n      <td>2013</td>\n      <td>Professor</td>\n      <td>Department of Political Science</td>\n      <td>CAS</td>\n    </tr>\n    <tr>\n      <th>1</th>\n      <td>2018</td>\n      <td>Lecturer (Part-Time)</td>\n      <td>Grossman School of Business</td>\n      <td>Business</td>\n    </tr>\n    <tr>\n      <th>2</th>\n      <td>2012</td>\n      <td>Assistant Professor</td>\n      <td>Department of Med-Pulmonary</td>\n      <td>COM</td>\n    </tr>\n    <tr>\n      <th>3</th>\n      <td>2018</td>\n      <td>Assistant Professor</td>\n      <td>Department of Family Medicine</td>\n      <td>COM</td>\n    </tr>\n    <tr>\n      <th>4</th>\n      <td>2020</td>\n      <td>Clinical Practice Phys</td>\n      <td>Department of Orthopaedics &amp; Rehabilitation</td>\n      <td>COM</td>\n    </tr>\n    <tr>\n      <th>...</th>\n      <td>...</td>\n      <td>...</td>\n      <td>...</td>\n      <td>...</td>\n    </tr>\n    <tr>\n      <th>14465</th>\n      <td>2019</td>\n      <td>Lecturer</td>\n      <td>Department of Classics</td>\n      <td>CAS</td>\n    </tr>\n    <tr>\n      <th>14466</th>\n      <td>2018</td>\n      <td>Police Officer Senior</td>\n      <td>Department of Surg-Urology</td>\n      <td>COM</td>\n    </tr>\n    <tr>\n      <th>14467</th>\n      <td>2020</td>\n      <td>Professor</td>\n      <td>Department of English</td>\n      <td>CAS</td>\n    </tr>\n    <tr>\n      <th>14468</th>\n      <td>2015</td>\n      <td>Assistant Professor</td>\n      <td>Department of Med-Gen Internal Med</td>\n      <td>COM</td>\n    </tr>\n    <tr>\n      <th>14469</th>\n      <td>2018</td>\n      <td>Professor</td>\n      <td>Department of History</td>\n      <td>CAS</td>\n    </tr>\n  </tbody>\n</table>\n<p>14470 rows × 4 columns</p>\n</div>"
     },
     "execution_count": 166,
     "metadata": {},
     "output_type": "execute_result"
    }
   ],
   "source": [
    "x"
   ],
   "metadata": {
    "collapsed": false,
    "pycharm": {
     "name": "#%%\n"
    }
   }
  },
  {
   "cell_type": "code",
   "execution_count": 167,
   "outputs": [
    {
     "data": {
      "text/plain": "0        116824.0\n1          5727.0\n2        140250.0\n3         30000.0\n4         24000.0\n           ...   \n14465     38330.0\n14466     82139.0\n14467     98513.0\n14468     27000.0\n14469     65805.0\nName: Salary, Length: 14470, dtype: float64"
     },
     "execution_count": 167,
     "metadata": {},
     "output_type": "execute_result"
    }
   ],
   "source": [
    "y"
   ],
   "metadata": {
    "collapsed": false,
    "pycharm": {
     "name": "#%%\n"
    }
   }
  },
  {
   "cell_type": "markdown",
   "source": [
    "Перевод данных в двоичную систему (1/0)"
   ],
   "metadata": {
    "collapsed": false
   }
  },
  {
   "cell_type": "code",
   "execution_count": 168,
   "outputs": [
    {
     "data": {
      "text/plain": "       Business  CALS  CAS  CEMS  CESS  CNHS  COM  Department of Ext  LCOMEO  \\\n0             0     0    1     0     0     0    0                  0       0   \n1             1     0    0     0     0     0    0                  0       0   \n2             0     0    0     0     0     0    1                  0       0   \n3             0     0    0     0     0     0    1                  0       0   \n4             0     0    0     0     0     0    1                  0       0   \n...         ...   ...  ...   ...   ...   ...  ...                ...     ...   \n14465         0     0    1     0     0     0    0                  0       0   \n14466         0     0    0     0     0     0    1                  0       0   \n14467         0     0    1     0     0     0    0                  0       0   \n14468         0     0    0     0     0     0    1                  0       0   \n14469         0     0    1     0     0     0    0                  0       0   \n\n       Learning and Info Tech  Library  RSENR  \n0                           0        0      0  \n1                           0        0      0  \n2                           0        0      0  \n3                           0        0      0  \n4                           0        0      0  \n...                       ...      ...    ...  \n14465                       0        0      0  \n14466                       0        0      0  \n14467                       0        0      0  \n14468                       0        0      0  \n14469                       0        0      0  \n\n[14470 rows x 12 columns]",
      "text/html": "<div>\n<style scoped>\n    .dataframe tbody tr th:only-of-type {\n        vertical-align: middle;\n    }\n\n    .dataframe tbody tr th {\n        vertical-align: top;\n    }\n\n    .dataframe thead th {\n        text-align: right;\n    }\n</style>\n<table border=\"1\" class=\"dataframe\">\n  <thead>\n    <tr style=\"text-align: right;\">\n      <th></th>\n      <th>Business</th>\n      <th>CALS</th>\n      <th>CAS</th>\n      <th>CEMS</th>\n      <th>CESS</th>\n      <th>CNHS</th>\n      <th>COM</th>\n      <th>Department of Ext</th>\n      <th>LCOMEO</th>\n      <th>Learning and Info Tech</th>\n      <th>Library</th>\n      <th>RSENR</th>\n    </tr>\n  </thead>\n  <tbody>\n    <tr>\n      <th>0</th>\n      <td>0</td>\n      <td>0</td>\n      <td>1</td>\n      <td>0</td>\n      <td>0</td>\n      <td>0</td>\n      <td>0</td>\n      <td>0</td>\n      <td>0</td>\n      <td>0</td>\n      <td>0</td>\n      <td>0</td>\n    </tr>\n    <tr>\n      <th>1</th>\n      <td>1</td>\n      <td>0</td>\n      <td>0</td>\n      <td>0</td>\n      <td>0</td>\n      <td>0</td>\n      <td>0</td>\n      <td>0</td>\n      <td>0</td>\n      <td>0</td>\n      <td>0</td>\n      <td>0</td>\n    </tr>\n    <tr>\n      <th>2</th>\n      <td>0</td>\n      <td>0</td>\n      <td>0</td>\n      <td>0</td>\n      <td>0</td>\n      <td>0</td>\n      <td>1</td>\n      <td>0</td>\n      <td>0</td>\n      <td>0</td>\n      <td>0</td>\n      <td>0</td>\n    </tr>\n    <tr>\n      <th>3</th>\n      <td>0</td>\n      <td>0</td>\n      <td>0</td>\n      <td>0</td>\n      <td>0</td>\n      <td>0</td>\n      <td>1</td>\n      <td>0</td>\n      <td>0</td>\n      <td>0</td>\n      <td>0</td>\n      <td>0</td>\n    </tr>\n    <tr>\n      <th>4</th>\n      <td>0</td>\n      <td>0</td>\n      <td>0</td>\n      <td>0</td>\n      <td>0</td>\n      <td>0</td>\n      <td>1</td>\n      <td>0</td>\n      <td>0</td>\n      <td>0</td>\n      <td>0</td>\n      <td>0</td>\n    </tr>\n    <tr>\n      <th>...</th>\n      <td>...</td>\n      <td>...</td>\n      <td>...</td>\n      <td>...</td>\n      <td>...</td>\n      <td>...</td>\n      <td>...</td>\n      <td>...</td>\n      <td>...</td>\n      <td>...</td>\n      <td>...</td>\n      <td>...</td>\n    </tr>\n    <tr>\n      <th>14465</th>\n      <td>0</td>\n      <td>0</td>\n      <td>1</td>\n      <td>0</td>\n      <td>0</td>\n      <td>0</td>\n      <td>0</td>\n      <td>0</td>\n      <td>0</td>\n      <td>0</td>\n      <td>0</td>\n      <td>0</td>\n    </tr>\n    <tr>\n      <th>14466</th>\n      <td>0</td>\n      <td>0</td>\n      <td>0</td>\n      <td>0</td>\n      <td>0</td>\n      <td>0</td>\n      <td>1</td>\n      <td>0</td>\n      <td>0</td>\n      <td>0</td>\n      <td>0</td>\n      <td>0</td>\n    </tr>\n    <tr>\n      <th>14467</th>\n      <td>0</td>\n      <td>0</td>\n      <td>1</td>\n      <td>0</td>\n      <td>0</td>\n      <td>0</td>\n      <td>0</td>\n      <td>0</td>\n      <td>0</td>\n      <td>0</td>\n      <td>0</td>\n      <td>0</td>\n    </tr>\n    <tr>\n      <th>14468</th>\n      <td>0</td>\n      <td>0</td>\n      <td>0</td>\n      <td>0</td>\n      <td>0</td>\n      <td>0</td>\n      <td>1</td>\n      <td>0</td>\n      <td>0</td>\n      <td>0</td>\n      <td>0</td>\n      <td>0</td>\n    </tr>\n    <tr>\n      <th>14469</th>\n      <td>0</td>\n      <td>0</td>\n      <td>1</td>\n      <td>0</td>\n      <td>0</td>\n      <td>0</td>\n      <td>0</td>\n      <td>0</td>\n      <td>0</td>\n      <td>0</td>\n      <td>0</td>\n      <td>0</td>\n    </tr>\n  </tbody>\n</table>\n<p>14470 rows × 12 columns</p>\n</div>"
     },
     "execution_count": 168,
     "metadata": {},
     "output_type": "execute_result"
    }
   ],
   "source": [
    "pd.get_dummies(x['College'])"
   ],
   "metadata": {
    "collapsed": false,
    "pycharm": {
     "name": "#%%\n"
    }
   }
  },
  {
   "cell_type": "code",
   "execution_count": 169,
   "outputs": [],
   "source": [
    "def create(reg):\n",
    "\n",
    "    transformer = Pipeline(steps=[\n",
    "        ('onehot', OneHotEncoder(sparse=False, handle_unknown='ignore'))\n",
    "    ])\n",
    "\n",
    "    preproc = ColumnTransformer(transformers=[\n",
    "        ('nominal', transformer, ['Primary Job Title', 'Department', 'College'])\n",
    "    ], remainder='passthrough')\n",
    "\n",
    "    model = Pipeline(steps=[\n",
    "        ('preprocessor', preproc),\n",
    "        ('scaler', StandardScaler()),\n",
    "        ('regressor', reg)\n",
    "    ])\n",
    "\n",
    "    return model"
   ],
   "metadata": {
    "collapsed": false,
    "pycharm": {
     "name": "#%%\n"
    }
   }
  },
  {
   "cell_type": "markdown",
   "source": [
    "Модели, которые будем использовать"
   ],
   "metadata": {
    "collapsed": false
   }
  },
  {
   "cell_type": "code",
   "execution_count": 174,
   "outputs": [],
   "source": [
    "models = {\n",
    "    \"Linear Regression (Ridge)\": create(Ridge()),\n",
    "    \"Decision Tree\": create(DecisionTreeRegressor()),\n",
    "    \"Random Forest\": create(RandomForestRegressor()),}"
   ],
   "metadata": {
    "collapsed": false,
    "pycharm": {
     "name": "#%%\n"
    }
   }
  },
  {
   "cell_type": "markdown",
   "source": [
    "Сравнение моделей (K-Fold CV)"
   ],
   "metadata": {
    "collapsed": false
   }
  },
  {
   "cell_type": "code",
   "execution_count": 175,
   "outputs": [],
   "source": [
    "def evaluate_model(model, x, y):\n",
    "\n",
    "    kf = KFold(n_splits=5)\n",
    "    rmses = []\n",
    "    r2s = []\n",
    "\n",
    "    for train_idx, test_idx in kf.split(x):\n",
    "        # Fit model\n",
    "        model.fit(x.iloc[train_idx, :], y.iloc[train_idx])\n",
    "\n",
    "        # Make predictions\n",
    "        pred = model.predict(x.iloc[test_idx, :])\n",
    "\n",
    "        # Calculate RMSE\n",
    "        rmse = np.sqrt(np.mean((y.iloc[test_idx] - pred)**2))\n",
    "        rmses.append(rmse)\n",
    "\n",
    "        # Calculate R^2\n",
    "        r2 = 1 - (np.sum((y.iloc[test_idx] - pred)**2) / np.sum((y.iloc[test_idx] - y.iloc[test_idx].mean())**2))\n",
    "        r2s.append(r2)\n",
    "\n",
    "    # Return average RMSE and R^2\n",
    "    return np.mean(rmses), np.mean(r2s)"
   ],
   "metadata": {
    "collapsed": false,
    "pycharm": {
     "name": "#%%\n"
    }
   }
  },
  {
   "cell_type": "code",
   "execution_count": 177,
   "outputs": [
    {
     "name": "stdout",
     "output_type": "stream",
     "text": [
      "Linear Regression (Ridge) RMSE: 28446.38\n",
      "Decision Tree RMSE: 30011.30\n"
     ]
    }
   ],
   "source": [
    "for name, model in models.items():\n",
    "    print(name + \" RMSE: {:.2f}\".format(evaluate_model(model, x, y)[0]))"
   ],
   "metadata": {
    "collapsed": false,
    "pycharm": {
     "name": "#%%\n"
    }
   }
  },
  {
   "cell_type": "code",
   "execution_count": null,
   "outputs": [],
   "source": [
    "for name, model in models.items():\n",
    "    print(name + \" R^2: {:.5f}\".format(evaluate_model(model, x, y)[1]))"
   ],
   "metadata": {
    "collapsed": false,
    "pycharm": {
     "name": "#%%\n"
    }
   }
  },
  {
   "cell_type": "markdown",
   "source": [
    "Логарифмируем наши зарплаты, для улучшения точности"
   ],
   "metadata": {
    "collapsed": false
   }
  },
  {
   "cell_type": "code",
   "execution_count": 156,
   "outputs": [
    {
     "data": {
      "text/plain": "       Year         Primary Job Title     Salary  \\\n14465  2017           Senior Lecturer  11.095954   \n14466  2014  Outreach Professional Sr  11.242769   \n14467  2018                 Professor  11.618942   \n14468  2020       Associate Professor  10.463103   \n14469  2012                 Professor  12.411459   \n\n                                   Department College  \n14465  Department of Mathematics & Statistics    CEMS  \n14466                     Department of Music     CAS  \n14467     Department of Psychological Science     CAS  \n14468             Department of Surg-Vascular     COM  \n14469                Department of Psychiatry     COM  ",
      "text/html": "<div>\n<style scoped>\n    .dataframe tbody tr th:only-of-type {\n        vertical-align: middle;\n    }\n\n    .dataframe tbody tr th {\n        vertical-align: top;\n    }\n\n    .dataframe thead th {\n        text-align: right;\n    }\n</style>\n<table border=\"1\" class=\"dataframe\">\n  <thead>\n    <tr style=\"text-align: right;\">\n      <th></th>\n      <th>Year</th>\n      <th>Primary Job Title</th>\n      <th>Salary</th>\n      <th>Department</th>\n      <th>College</th>\n    </tr>\n  </thead>\n  <tbody>\n    <tr>\n      <th>14465</th>\n      <td>2017</td>\n      <td>Senior Lecturer</td>\n      <td>11.095954</td>\n      <td>Department of Mathematics &amp; Statistics</td>\n      <td>CEMS</td>\n    </tr>\n    <tr>\n      <th>14466</th>\n      <td>2014</td>\n      <td>Outreach Professional Sr</td>\n      <td>11.242769</td>\n      <td>Department of Music</td>\n      <td>CAS</td>\n    </tr>\n    <tr>\n      <th>14467</th>\n      <td>2018</td>\n      <td>Professor</td>\n      <td>11.618942</td>\n      <td>Department of Psychological Science</td>\n      <td>CAS</td>\n    </tr>\n    <tr>\n      <th>14468</th>\n      <td>2020</td>\n      <td>Associate Professor</td>\n      <td>10.463103</td>\n      <td>Department of Surg-Vascular</td>\n      <td>COM</td>\n    </tr>\n    <tr>\n      <th>14469</th>\n      <td>2012</td>\n      <td>Professor</td>\n      <td>12.411459</td>\n      <td>Department of Psychiatry</td>\n      <td>COM</td>\n    </tr>\n  </tbody>\n</table>\n</div>"
     },
     "execution_count": 156,
     "metadata": {},
     "output_type": "execute_result"
    }
   ],
   "source": [
    "df['Salary'] = np.log(df['Salary'])\n",
    "df.tail()"
   ],
   "metadata": {
    "collapsed": false,
    "pycharm": {
     "name": "#%%\n"
    }
   }
  },
  {
   "cell_type": "code",
   "execution_count": 157,
   "outputs": [],
   "source": [
    "x = df.drop('Salary', axis=1)\n",
    "# Split df into X and y\n",
    "y = df['Salary']"
   ],
   "metadata": {
    "collapsed": false,
    "pycharm": {
     "name": "#%%\n"
    }
   }
  },
  {
   "cell_type": "code",
   "execution_count": 158,
   "outputs": [
    {
     "name": "stdout",
     "output_type": "stream",
     "text": [
      "Linear Regression (Ridge) RMSE: 0.41\n",
      "Decision Tree RMSE: 0.43\n"
     ]
    }
   ],
   "source": [
    "for name, model in models.items():\n",
    "    print(name + \" RMSE: {:.2f}\".format(evaluate_model(model, x, y)[0]))"
   ],
   "metadata": {
    "collapsed": false,
    "pycharm": {
     "name": "#%%\n"
    }
   }
  },
  {
   "cell_type": "code",
   "execution_count": 159,
   "outputs": [
    {
     "name": "stdout",
     "output_type": "stream",
     "text": [
      "Linear Regression (Ridge) R^2: 0.67658\n",
      "Decision Tree R^2: 0.64254\n"
     ]
    }
   ],
   "source": [
    "for name, model in models.items():\n",
    "    print(name + \" R^2: {:.5f}\".format(evaluate_model(model, x, y)[1]))"
   ],
   "metadata": {
    "collapsed": false,
    "pycharm": {
     "name": "#%%\n"
    }
   }
  }
 ],
 "metadata": {
  "kernelspec": {
   "display_name": "Python 3",
   "language": "python",
   "name": "python3"
  },
  "language_info": {
   "codemirror_mode": {
    "name": "ipython",
    "version": 2
   },
   "file_extension": ".py",
   "mimetype": "text/x-python",
   "name": "python",
   "nbconvert_exporter": "python",
   "pygments_lexer": "ipython2",
   "version": "2.7.6"
  }
 },
 "nbformat": 4,
 "nbformat_minor": 0
}